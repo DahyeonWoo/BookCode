{
 "cells": [
  {
   "cell_type": "code",
   "execution_count": 1,
   "id": "c3eb734d",
   "metadata": {},
   "outputs": [],
   "source": [
    "#aladin"
   ]
  },
  {
   "cell_type": "code",
   "execution_count": 138,
   "id": "6b684f7d",
   "metadata": {},
   "outputs": [],
   "source": [
    "import os\n",
    "from bs4 import BeautifulSoup\n",
    "from urllib.request import urlopen\n",
    "import pandas as pd"
   ]
  },
  {
   "cell_type": "code",
   "execution_count": 139,
   "id": "5ae56660",
   "metadata": {},
   "outputs": [],
   "source": [
    "from selenium import webdriver\n",
    "from selenium.webdriver.support.ui import WebDriverWait\n",
    "from selenium.webdriver.support import expected_conditions as EC\n",
    "from selenium.webdriver.common.by import By\n",
    "import time\n",
    "from selenium.webdriver.chrome.options import Options\n",
    "from selenium.webdriver import ActionChains"
   ]
  },
  {
   "cell_type": "code",
   "execution_count": 140,
   "id": "651acd9c",
   "metadata": {},
   "outputs": [],
   "source": [
    "response = urlopen('https://www.aladin.co.kr/shop/wproduct.aspx?ItemId=271942102')\n",
    "soup = BeautifulSoup(response, 'html.parser')"
   ]
  },
  {
   "cell_type": "code",
   "execution_count": 141,
   "id": "5a82d494",
   "metadata": {},
   "outputs": [],
   "source": [
    "#Iblock\n",
    "Iblock = soup.select(\".conts_info_list1 > ul > li\")"
   ]
  },
  {
   "cell_type": "code",
   "execution_count": 144,
   "id": "4dadc1ae",
   "metadata": {},
   "outputs": [
    {
     "name": "stdout",
     "output_type": "stream",
     "text": [
      "9791191253313\n"
     ]
    }
   ],
   "source": [
    "#ISBN\n",
    "isbn = Iblock[3].text[-13:]\n",
    "print(isbn)"
   ]
  },
  {
   "cell_type": "code",
   "execution_count": 143,
   "id": "6ccb87ba",
   "metadata": {},
   "outputs": [
    {
     "name": "stdout",
     "output_type": "stream",
     "text": [
      "384\n"
     ]
    }
   ],
   "source": [
    "#pages\n",
    "page = Iblock[0].text[:-1]\n",
    "print(page)"
   ]
  },
  {
   "cell_type": "code",
   "execution_count": 145,
   "id": "ca841606",
   "metadata": {},
   "outputs": [
    {
     "name": "stdout",
     "output_type": "stream",
     "text": [
      "기타기타 사건부\n"
     ]
    }
   ],
   "source": [
    "#title\n",
    "title = soup.select(\".Ere_bo_title\")[0].text\n",
    "print(title)"
   ]
  },
  {
   "cell_type": "code",
   "execution_count": 146,
   "id": "29eaacd0",
   "metadata": {},
   "outputs": [],
   "source": [
    "#info Block\n",
    "infoBlock = soup.select(\".Ere_sub2_title\")[0]\n",
    "#print(infoBlock)"
   ]
  },
  {
   "cell_type": "code",
   "execution_count": 147,
   "id": "c11ebf4e",
   "metadata": {},
   "outputs": [
    {
     "name": "stdout",
     "output_type": "stream",
     "text": [
      "미야베 미유키\n"
     ]
    }
   ],
   "source": [
    "#author\n",
    "author = infoBlock.select_one(\"a\").text\n",
    "print(author)"
   ]
  },
  {
   "cell_type": "code",
   "execution_count": 148,
   "id": "6ed8433e",
   "metadata": {},
   "outputs": [
    {
     "name": "stdout",
     "output_type": "stream",
     "text": [
      "이규원\n"
     ]
    }
   ],
   "source": [
    "#translator\n",
    "translator = infoBlock.select(\"a\")[1].text\n",
    "print(translator)"
   ]
  },
  {
   "cell_type": "code",
   "execution_count": 149,
   "id": "b8671e19",
   "metadata": {},
   "outputs": [
    {
     "name": "stdout",
     "output_type": "stream",
     "text": [
      "북스피어\n"
     ]
    }
   ],
   "source": [
    "#publisher\n",
    "publisher = infoBlock.select(\"a\")[2].text\n",
    "print(publisher)"
   ]
  },
  {
   "cell_type": "code",
   "execution_count": 150,
   "id": "cfde67d0",
   "metadata": {},
   "outputs": [
    {
     "name": "stdout",
     "output_type": "stream",
     "text": [
      "20210531\n"
     ]
    }
   ],
   "source": [
    "#publish date\n",
    "infoText = infoBlock.text\n",
    "publishDT=''\n",
    "for t in infoText:\n",
    "    if t.isnumeric():\n",
    "        publishDT = publishDT + t\n",
    "publishDT = publishDT[:8]\n",
    "print(publishDT)"
   ]
  },
  {
   "cell_type": "code",
   "execution_count": 155,
   "id": "9f3a0197",
   "metadata": {},
   "outputs": [],
   "source": [
    "options = Options()\n",
    "#options.add_argument(\"headless\")\n",
    "options.add_argument('start-maximized')\n",
    "options.add_argument('disable-infobars')\n",
    "options.add_experimental_option(\"useAutomationExtension\", False)\n",
    "options.add_experimental_option(\"excludeSwitches\",[\"enable-automation\"])\n",
    "driver = webdriver.Chrome(options=options, executable_path='크롬드라이버 위치 쓰시면 됩니다')"
   ]
  },
  {
   "cell_type": "code",
   "execution_count": 156,
   "id": "9f2cc5da",
   "metadata": {},
   "outputs": [
    {
     "name": "stdout",
     "output_type": "stream",
     "text": [
      "Message: no such element: Unable to locate element: {\"method\":\"css selector\",\"selector\":\".introduction\"}\n",
      "  (Session info: chrome=91.0.4472.114)\n",
      "\n"
     ]
    }
   ],
   "source": [
    "#author Info\n",
    "try:\n",
    "    driver.get('https://www.aladin.co.kr/shop/wproduct.aspx?ItemId=271942102')\n",
    "\n",
    "    driver.execute_script(\"window.scrollTo(0, 3700)\")\n",
    "    while(True):    \n",
    "        d = driver.find_element_by_class_name('introduction')\n",
    "        if d:\n",
    "            print(\"introduction part found\")\n",
    "            more_btn = driver.find_element_by_class_name('introduction a')\n",
    "            if more_btn : #long info\n",
    "                print(\"button found\")\n",
    "                actions = ActionChains(driver).move_to_element(more_btn).click()\n",
    "                actions.perform()\n",
    "                driver.execute_script(\"window.scrollTo(0, window.scrollY + 500)\")\n",
    "                print(d.text)\n",
    "            break\n",
    "        else:\n",
    "            driver.execute_script(\"window.scrollTo(0, window.scrollY + 500)\")\n",
    "\n",
    "except Exception as e:\n",
    "    print(e)"
   ]
  },
  {
   "cell_type": "code",
   "execution_count": 60,
   "id": "a5aefe87",
   "metadata": {},
   "outputs": [
    {
     "name": "stdout",
     "output_type": "stream",
     "text": [
      "[]\n"
     ]
    }
   ],
   "source": [
    "#img\n",
    "cover = soup.select(\"#CoverMainImage\")[0]\n",
    "img = cover.select(\"img\")\n",
    "print(img)"
   ]
  },
  {
   "cell_type": "code",
   "execution_count": 30,
   "id": "85325f03",
   "metadata": {},
   "outputs": [],
   "source": [
    "#ebook y/n"
   ]
  },
  {
   "cell_type": "code",
   "execution_count": 85,
   "id": "2cc2fc84",
   "metadata": {},
   "outputs": [],
   "source": [
    "#description\n"
   ]
  },
  {
   "cell_type": "code",
   "execution_count": 151,
   "id": "27ee68b9",
   "metadata": {},
   "outputs": [
    {
     "name": "stdout",
     "output_type": "stream",
     "text": [
      "14,220\n"
     ]
    }
   ],
   "source": [
    "#price\n",
    "price = soup.select(\".Ere_fs24\")[0].text\n",
    "print(price)"
   ]
  },
  {
   "cell_type": "code",
   "execution_count": 33,
   "id": "59c28f4d",
   "metadata": {},
   "outputs": [],
   "source": [
    "#series"
   ]
  },
  {
   "cell_type": "code",
   "execution_count": 152,
   "id": "56402492",
   "metadata": {},
   "outputs": [],
   "source": [
    "#category\n",
    "cate = soup.select(\"#ulCategory > li > a\")\n",
    "#print(cate)"
   ]
  },
  {
   "cell_type": "code",
   "execution_count": 153,
   "id": "c5aa8121",
   "metadata": {},
   "outputs": [
    {
     "name": "stdout",
     "output_type": "stream",
     "text": [
      "국내도서\n",
      "소설/시/희곡\n",
      "추리/미스터리소설\n"
     ]
    }
   ],
   "source": [
    "cate1 = cate[0].text\n",
    "print(cate1)\n",
    "\n",
    "cate2 = cate[1].text\n",
    "print(cate2)\n",
    "\n",
    "cate3 = cate[2].text\n",
    "print(cate3)"
   ]
  },
  {
   "cell_type": "code",
   "execution_count": 154,
   "id": "7095823e",
   "metadata": {},
   "outputs": [
    {
     "name": "stdout",
     "output_type": "stream",
     "text": [
      "9.9 \n"
     ]
    }
   ],
   "source": [
    "#star\n",
    "star = soup.find(class_=\"Ere_sub_pink Ere_fs16 Ere_str\").text\n",
    "print(star)"
   ]
  },
  {
   "cell_type": "code",
   "execution_count": null,
   "id": "ef70fba7",
   "metadata": {},
   "outputs": [],
   "source": []
  }
 ],
 "metadata": {
  "kernelspec": {
   "display_name": "Python 3",
   "language": "python",
   "name": "python3"
  },
  "language_info": {
   "codemirror_mode": {
    "name": "ipython",
    "version": 3
   },
   "file_extension": ".py",
   "mimetype": "text/x-python",
   "name": "python",
   "nbconvert_exporter": "python",
   "pygments_lexer": "ipython3",
   "version": "3.8.8"
  }
 },
 "nbformat": 4,
 "nbformat_minor": 5
}
